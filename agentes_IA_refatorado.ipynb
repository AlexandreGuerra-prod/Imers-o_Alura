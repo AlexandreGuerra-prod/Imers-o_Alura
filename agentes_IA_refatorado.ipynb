{
 "cells": [
  {
   "cell_type": "markdown",
   "id": "b0408880",
   "metadata": {},
   "source": [
    "# Agentes de IA\n",
    "\n",
    "Notebook refatorado com boas práticas."
   ]
  },
  {
   "cell_type": "code",
   "execution_count": null,
   "id": "379c0bd6",
   "metadata": {},
   "outputs": [],
   "source": [
    "import json\n",
    "import os\n",
    "import textwrap\n",
    "import inspect\n",
    "import sys\n",
    "import types\n",
    "import typing\n",
    "import math\n",
    "from datetime import date"
   ]
  },
  {
   "cell_type": "code",
   "execution_count": null,
   "id": "bb781ab4",
   "metadata": {},
   "outputs": [],
   "source": [
    "def saudacao(nome: str) -> str:\n",
    "    \"\"\"Gera uma saudação personalizada.\"\"\"\n",
    "    return f\"Olá, {nome}! Hoje é {date.today().strftime('%d/%m/%Y')}\""
   ]
  },
  {
   "cell_type": "code",
   "execution_count": null,
   "id": "20ff5e37",
   "metadata": {},
   "outputs": [],
   "source": [
    "print(saudacao(\"João\"))"
   ]
  }
 ],
 "metadata": {
  "language": "python"
 },
 "nbformat": 4,
 "nbformat_minor": 5
}
