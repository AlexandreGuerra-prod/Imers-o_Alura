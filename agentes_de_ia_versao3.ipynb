{
  "cells": [
    {
      "cell_type": "markdown",
      "metadata": {
        "id": "view-in-github",
        "colab_type": "text"
      },
      "source": [
        "<a href=\"https://colab.research.google.com/github/AlexandreGuerra-prod/Imers-o_Alura/blob/main/agentes_de_ia_versao3.ipynb\" target=\"_parent\"><img src=\"https://colab.research.google.com/assets/colab-badge.svg\" alt=\"Open In Colab\"/></a>"
      ]
    },
    {
      "cell_type": "code",
      "source": [
        "!pip install -q google-genai google-adk"
      ],
      "metadata": {
        "collapsed": true,
        "id": "zIjDvCD-lEsr",
        "colab": {
          "base_uri": "https://localhost:8080/"
        },
        "outputId": "82abf16a-fd9c-4d8b-c86f-0a1e11c228d1"
      },
      "id": "zIjDvCD-lEsr",
      "execution_count": null,
      "outputs": [
        {
          "output_type": "stream",
          "name": "stdout",
          "text": [
            "\u001b[2K   \u001b[90m━━━━━━━━━━━━━━━━━━━━━━━━━━━━━━━━━━━━━━━━\u001b[0m \u001b[32m1.2/1.2 MB\u001b[0m \u001b[31m6.9 MB/s\u001b[0m eta \u001b[36m0:00:00\u001b[0m\n",
            "\u001b[2K   \u001b[90m━━━━━━━━━━━━━━━━━━━━━━━━━━━━━━━━━━━━━━━━\u001b[0m \u001b[32m240.0/240.0 kB\u001b[0m \u001b[31m8.7 MB/s\u001b[0m eta \u001b[36m0:00:00\u001b[0m\n",
            "\u001b[2K   \u001b[90m━━━━━━━━━━━━━━━━━━━━━━━━━━━━━━━━━━━━━━━━\u001b[0m \u001b[32m95.2/95.2 kB\u001b[0m \u001b[31m918.4 kB/s\u001b[0m eta \u001b[36m0:00:00\u001b[0m\n",
            "\u001b[2K   \u001b[90m━━━━━━━━━━━━━━━━━━━━━━━━━━━━━━━━━━━━━━━━\u001b[0m \u001b[32m217.1/217.1 kB\u001b[0m \u001b[31m9.0 MB/s\u001b[0m eta \u001b[36m0:00:00\u001b[0m\n",
            "\u001b[2K   \u001b[90m━━━━━━━━━━━━━━━━━━━━━━━━━━━━━━━━━━━━━━━━\u001b[0m \u001b[32m334.1/334.1 kB\u001b[0m \u001b[31m9.3 MB/s\u001b[0m eta \u001b[36m0:00:00\u001b[0m\n",
            "\u001b[2K   \u001b[90m━━━━━━━━━━━━━━━━━━━━━━━━━━━━━━━━━━━━━━━━\u001b[0m \u001b[32m131.1/131.1 kB\u001b[0m \u001b[31m3.8 MB/s\u001b[0m eta \u001b[36m0:00:00\u001b[0m\n",
            "\u001b[2K   \u001b[90m━━━━━━━━━━━━━━━━━━━━━━━━━━━━━━━━━━━━━━━━\u001b[0m \u001b[32m65.8/65.8 kB\u001b[0m \u001b[31m1.2 MB/s\u001b[0m eta \u001b[36m0:00:00\u001b[0m\n",
            "\u001b[2K   \u001b[90m━━━━━━━━━━━━━━━━━━━━━━━━━━━━━━━━━━━━━━━━\u001b[0m \u001b[32m119.0/119.0 kB\u001b[0m \u001b[31m3.4 MB/s\u001b[0m eta \u001b[36m0:00:00\u001b[0m\n",
            "\u001b[2K   \u001b[90m━━━━━━━━━━━━━━━━━━━━━━━━━━━━━━━━━━━━━━━━\u001b[0m \u001b[32m194.9/194.9 kB\u001b[0m \u001b[31m5.0 MB/s\u001b[0m eta \u001b[36m0:00:00\u001b[0m\n",
            "\u001b[2K   \u001b[90m━━━━━━━━━━━━━━━━━━━━━━━━━━━━━━━━━━━━━━━━\u001b[0m \u001b[32m62.4/62.4 kB\u001b[0m \u001b[31m2.6 MB/s\u001b[0m eta \u001b[36m0:00:00\u001b[0m\n",
            "\u001b[2K   \u001b[90m━━━━━━━━━━━━━━━━━━━━━━━━━━━━━━━━━━━━━━━━\u001b[0m \u001b[32m103.3/103.3 kB\u001b[0m \u001b[31m3.3 MB/s\u001b[0m eta \u001b[36m0:00:00\u001b[0m\n",
            "\u001b[2K   \u001b[90m━━━━━━━━━━━━━━━━━━━━━━━━━━━━━━━━━━━━━━━━\u001b[0m \u001b[32m44.4/44.4 kB\u001b[0m \u001b[31m2.1 MB/s\u001b[0m eta \u001b[36m0:00:00\u001b[0m\n",
            "\u001b[2K   \u001b[90m━━━━━━━━━━━━━━━━━━━━━━━━━━━━━━━━━━━━━━━━\u001b[0m \u001b[32m72.0/72.0 kB\u001b[0m \u001b[31m3.4 MB/s\u001b[0m eta \u001b[36m0:00:00\u001b[0m\n",
            "\u001b[?25h"
          ]
        }
      ]
    },
    {
      "cell_type": "code",
      "source": [
        "# Configura a API Key do Google Gemini\n",
        "\n",
        "import os\n",
        "from google.colab import userdata\n",
        "\n",
        "os.environ[\"GOOGLE_API_KEY\"] = userdata.get('GOOGLE_API_KEY')"
      ],
      "metadata": {
        "id": "HWVsleevlSDk"
      },
      "id": "HWVsleevlSDk",
      "execution_count": null,
      "outputs": []
    },
    {
      "cell_type": "code",
      "source": [
        "# Configura o cliente da SDK do Gemini\n",
        "\n",
        "from google import genai\n",
        "\n",
        "client = genai.Client()"
      ],
      "metadata": {
        "id": "0OScbpN5lXEa"
      },
      "id": "0OScbpN5lXEa",
      "execution_count": null,
      "outputs": []
    },
    {
      "cell_type": "code",
      "source": [
        "from google.adk.agents import Agent\n",
        "from google.adk.runners import Runner\n",
        "from google.adk.sessions import InMemorySessionService\n",
        "from google.adk.tools import google_search\n",
        "from google.genai import types  # Para criar conteúdos (Content e Part)"
      ],
      "metadata": {
        "id": "rQPGQMf4lgUi"
      },
      "id": "rQPGQMf4lgUi",
      "execution_count": null,
      "outputs": []
    },
    {
      "cell_type": "code",
      "source": [
        "# Cria um serviço de sessão em memória\n",
        "\n",
        "session_service = InMemorySessionService()"
      ],
      "metadata": {
        "id": "_CQ_AACxltcT"
      },
      "id": "_CQ_AACxltcT",
      "execution_count": null,
      "outputs": []
    },
    {
      "cell_type": "code",
      "source": [],
      "metadata": {
        "id": "PEMPTAgllz9q"
      },
      "id": "PEMPTAgllz9q",
      "execution_count": null,
      "outputs": []
    },
    {
      "cell_type": "code",
      "source": [
        "# Função auxiliar que envia uma mensagem para um agente via Runner e retorna a resposta final\n",
        "\n",
        "# Editada: Função auxiliar que envia uma mensagem para um agente via Runner e retorna a resposta final\n",
        "\n",
        "import asyncio  # Importar para usar asyncio.sleep\n",
        "from google.api_core import exceptions  # Importar para capturar exceções da API\n",
        "\n",
        "async def call_agent(agent: Agent, message_text: str) -> str:\n",
        "    # Número máximo de tentativas\n",
        "    max_retries = 5\n",
        "    # Atraso inicial em segundos\n",
        "    initial_delay = 1\n",
        "\n",
        "    for attempt in range(max_retries):\n",
        "        try:\n",
        "            # Cria uma nova sessão (você pode personalizar os IDs conforme necessário)\n",
        "            session = await session_service.create_session(app_name=agent.name, user_id=\"user1\")\n",
        "            # Cria um Runner para o agente\n",
        "            runner = Runner(agent=agent, app_name=agent.name, session_service=session_service)\n",
        "            # Cria o conteúdo da mensagem de entrada\n",
        "            content = types.Content(role=\"user\", parts=[types.Part(text=message_text)])\n",
        "\n",
        "            final_response = \"\"\n",
        "            # Itera assincronamente pelos eventos retornados durante a execução do agente\n",
        "            async for event in runner.run_async(user_id=\"user1\", session_id=session.id, new_message=content):\n",
        "                if event.is_final_response():\n",
        "                  for part in event.content.parts:\n",
        "                    if part.text is not None:\n",
        "                      final_response += part.text\n",
        "                      final_response += \"\\n\"\n",
        "            # Se chegou aqui sem erro, retorna a resposta e sai do loop de retry\n",
        "            return final_response\n",
        "\n",
        "        except exceptions.ServerError as e:\n",
        "            # Verifica se é um erro 503 UNAVAILABLE\n",
        "            if e.code == 503:\n",
        "                print(f\"Erro 503 UNAVAILABLE na tentativa {attempt + 1}/{max_retries}. Tentando novamente...\")\n",
        "                # Calcula o atraso com exponencial backoff\n",
        "                delay = initial_delay * (2 ** attempt)\n",
        "                await asyncio.sleep(delay)\n",
        "            else:\n",
        "                # Se for outro ServerError, relança a exceção\n",
        "                raise e\n",
        "        except Exception as e:\n",
        "            # Captura outros erros inesperados e relança\n",
        "            print(f\"Erro inesperado na tentativa {attempt + 1}/{max_retries}: {e}\")\n",
        "            raise e\n",
        "\n",
        "    # Se todas as tentativas falharam, levanta uma exceção\n",
        "    raise Exception(f\"Falha após {max_retries} tentativas de chamar o agente {agent.name}.\")"
      ],
      "metadata": {
        "id": "ilCpZmqRl2xr"
      },
      "id": "ilCpZmqRl2xr",
      "execution_count": null,
      "outputs": []
    },
    {
      "cell_type": "code",
      "source": [],
      "metadata": {
        "id": "AooenerYl4e8"
      },
      "id": "AooenerYl4e8",
      "execution_count": null,
      "outputs": []
    },
    {
      "cell_type": "code",
      "source": [
        "\n",
        "# Lista todos os modelos disponíveis atualmente\n",
        "\n",
        "for model in client.models.list():\n",
        "    print(model.name)"
      ],
      "metadata": {
        "colab": {
          "base_uri": "https://localhost:8080/"
        },
        "collapsed": true,
        "id": "YXA-hl9bl-_D",
        "outputId": "6e0b2f5a-8118-450a-d3df-2a49f210d981"
      },
      "id": "YXA-hl9bl-_D",
      "execution_count": null,
      "outputs": [
        {
          "output_type": "stream",
          "name": "stdout",
          "text": [
            "models/embedding-gecko-001\n",
            "models/gemini-1.0-pro-vision-latest\n",
            "models/gemini-pro-vision\n",
            "models/gemini-1.5-pro-latest\n",
            "models/gemini-1.5-pro-001\n",
            "models/gemini-1.5-pro-002\n",
            "models/gemini-1.5-pro\n",
            "models/gemini-1.5-flash-latest\n",
            "models/gemini-1.5-flash-001\n",
            "models/gemini-1.5-flash-001-tuning\n",
            "models/gemini-1.5-flash\n",
            "models/gemini-1.5-flash-002\n",
            "models/gemini-1.5-flash-8b\n",
            "models/gemini-1.5-flash-8b-001\n",
            "models/gemini-1.5-flash-8b-latest\n",
            "models/gemini-1.5-flash-8b-exp-0827\n",
            "models/gemini-1.5-flash-8b-exp-0924\n",
            "models/gemini-2.5-pro-exp-03-25\n",
            "models/gemini-2.5-pro-preview-03-25\n",
            "models/gemini-2.5-flash-preview-04-17\n",
            "models/gemini-2.5-flash-preview-05-20\n",
            "models/gemini-2.5-flash-preview-04-17-thinking\n",
            "models/gemini-2.5-pro-preview-05-06\n",
            "models/gemini-2.0-flash-exp\n",
            "models/gemini-2.0-flash\n",
            "models/gemini-2.0-flash-001\n",
            "models/gemini-2.0-flash-exp-image-generation\n",
            "models/gemini-2.0-flash-lite-001\n",
            "models/gemini-2.0-flash-lite\n",
            "models/gemini-2.0-flash-preview-image-generation\n",
            "models/gemini-2.0-flash-lite-preview-02-05\n",
            "models/gemini-2.0-flash-lite-preview\n",
            "models/gemini-2.0-pro-exp\n",
            "models/gemini-2.0-pro-exp-02-05\n",
            "models/gemini-exp-1206\n",
            "models/gemini-2.0-flash-thinking-exp-01-21\n",
            "models/gemini-2.0-flash-thinking-exp\n",
            "models/gemini-2.0-flash-thinking-exp-1219\n",
            "models/gemini-2.5-flash-preview-tts\n",
            "models/gemini-2.5-pro-preview-tts\n",
            "models/learnlm-2.0-flash-experimental\n",
            "models/gemma-3-1b-it\n",
            "models/gemma-3-4b-it\n",
            "models/gemma-3-12b-it\n",
            "models/gemma-3-27b-it\n",
            "models/gemma-3n-e4b-it\n",
            "models/embedding-001\n",
            "models/text-embedding-004\n",
            "models/gemini-embedding-exp-03-07\n",
            "models/gemini-embedding-exp\n",
            "models/aqa\n",
            "models/imagen-3.0-generate-002\n",
            "models/veo-2.0-generate-001\n",
            "models/gemini-2.5-flash-preview-native-audio-dialog\n",
            "models/gemini-2.5-flash-preview-native-audio-dialog-rai-v3\n",
            "models/gemini-2.5-flash-exp-native-audio-thinking-dialog\n",
            "models/gemini-2.0-flash-live-001\n"
          ]
        }
      ]
    },
    {
      "cell_type": "code",
      "source": [
        "MODELO_RAPIDO = \"gemini-2.0-flash\"\n",
        "MODELO_ROBUSTO = \"gemini-1.5-flash\""
      ],
      "metadata": {
        "id": "Kievqpx0mFua"
      },
      "id": "Kievqpx0mFua",
      "execution_count": null,
      "outputs": []
    },
    {
      "cell_type": "code",
      "source": [
        "##########################################\n",
        "# --- Agente 1: Buscador de Notícias --- #\n",
        "##########################################\n",
        "\n",
        "async def agente_buscador(topico, data_de_hoje):\n",
        "\n",
        "    buscador = Agent(\n",
        "        name=\"agente_buscador\",\n",
        "        model=MODELO_RAPIDO,\n",
        "        instruction=\"\"\"\n",
        "        Você é um assistente de pesquisa. A sua tarefa é usar a ferramenta de busca do google (google_search)\n",
        "        para recuperar as últimas notícias de lançamentos muito relevantes sobre o tópico abaixo.\n",
        "        Foque em no máximo 5 lançamentos relevantes, com base na quantidade e entusiasmo das notícias sobre ele.\n",
        "        Se um tema tiver poucas notícias ou reações entusiasmadas, é possível que ele não seja tão relevante assim\n",
        "        e pode ser substituído por outro que tenha mais.\n",
        "        Esses lançamentos relevantes devem ser atuais, de no máximo um mês antes da data de hoje.\n",
        "        \"\"\",\n",
        "        description=\"Agente que busca informações no Google\",\n",
        "        tools=[google_search]\n",
        "    )\n",
        "\n",
        "    entrada_do_agente_buscador = f\"Tópico: {topico}\\nData de hoje: {data_de_hoje}\"\n",
        "\n",
        "    # Executa o agente\n",
        "    lancamentos = await call_agent(buscador, entrada_do_agente_buscador)\n",
        "    return lancamentos"
      ],
      "metadata": {
        "id": "loB69OLFmLjy"
      },
      "id": "loB69OLFmLjy",
      "execution_count": null,
      "outputs": []
    },
    {
      "cell_type": "code",
      "source": [
        "################################################\n",
        "# --- Agente 2: Planejador de posts --- #\n",
        "################################################\n",
        "\n",
        "async def agente_planejador(topico, lancamentos_buscados):\n",
        "    planejador = Agent(\n",
        "        name=\"agente_planejador\",\n",
        "        model=MODELO_RAPIDO,\n",
        "        instruction=\"\"\"\n",
        "        Você é um planejador de conteúdo, especialista em redes sociais.\n",
        "        Você recebe uma lista de lançamentos recentes do agente buscador e,\n",
        "        - Para cada um dos lançamentos recebidos, você deve usar a ferramenta\n",
        "        de busca do Google (google_search) para buscar os pontos mais relevantes\n",
        "        que poderíamos abordar em um post sobre cada um deles.\n",
        "        Você também pode usar o (google_search) para encontrar mais\n",
        "        informações sobre cada um dos temas e aprofundar.\n",
        "        - Depois de terminar a busca, você irá escolher APENAS UM tema dentre todos eles,\n",
        "        aquele tema com potencial de ser o mais relevante com base nas suas pesquisas.\n",
        "        - Depois de escolher o tema mais relevante dentre todos eles, você irá retornar\n",
        "        qual foi o tema escolhido, seus pontos mais relevantes, e um plano com os assuntos\n",
        "        a serem abordados no post que será escrito posteriormente.\n",
        "        \"\"\",\n",
        "        description=\"Agente que planeja posts\",\n",
        "        tools=[google_search]\n",
        "    )\n",
        "\n",
        "    entrada_do_agente_planejador = f\"Tópico:{topico}\\nLançamentos buscados: {lancamentos_buscados}\"\n",
        "\n",
        "    # Executa o agente\n",
        "    plano_do_post = await call_agent(planejador, entrada_do_agente_planejador)\n",
        "    return plano_do_post"
      ],
      "metadata": {
        "id": "eWxxgTQkmUCb"
      },
      "id": "eWxxgTQkmUCb",
      "execution_count": null,
      "outputs": []
    },
    {
      "cell_type": "code",
      "source": [
        "######################################\n",
        "# --- Agente 3: Redator do Post --- #\n",
        "######################################\n",
        "\n",
        "async def agente_redator(topico, plano_de_post):\n",
        "    redator = Agent(\n",
        "        name=\"agente_redator\",\n",
        "        model=MODELO_ROBUSTO,\n",
        "        instruction=\"\"\"\n",
        "            Você é um Redator Criativo especializado em criar posts virais para redes sociais.\n",
        "            Você escreve posts para a empresa Alura, a maior escola online de tecnologia do Brasil.\n",
        "            Utilize o tema fornecido no plano de post e os pontos mais relevantes fornecidos e, com base nisso,\n",
        "            escreva um post para Instagram sobre o tema indicado.\n",
        "            O post deve ser engajador, informativo, com linguagem simples e incluir 2 a 4 hashtags no final.\n",
        "            \"\"\",\n",
        "        description=\"Agente redator de posts engajadores para Instagram\"\n",
        "    )\n",
        "    entrada_do_agente_redator = f\"Tópico: {topico}\\nPlano de post: {plano_de_post}\"\n",
        "\n",
        "    # Executa o agente\n",
        "    post_final = await call_agent(redator, entrada_do_agente_redator)\n",
        "    return post_final\n"
      ],
      "metadata": {
        "id": "445ggrIpmZ0T"
      },
      "id": "445ggrIpmZ0T",
      "execution_count": null,
      "outputs": []
    },
    {
      "cell_type": "code",
      "source": [
        "import textwrap # Para formatar melhor a saída de texto\n",
        "from IPython.display import display, Markdown # Para exibir texto formatado no Colab\n",
        "\n",
        "# Função auxiliar para exibir texto formatado em Markdown no Colab\n",
        "def to_markdown(text):\n",
        "  text = text.replace('•', '  *')\n",
        "  return Markdown(textwrap.indent(text, '> ', predicate=lambda _: True))"
      ],
      "metadata": {
        "id": "i8Fp_0-rmea6"
      },
      "id": "i8Fp_0-rmea6",
      "execution_count": null,
      "outputs": []
    },
    {
      "cell_type": "code",
      "source": [
        "from datetime import date\n",
        "\n",
        "data_de_hoje = date.today().strftime(\"%d/%m/%Y\")\n"
      ],
      "metadata": {
        "id": "oLhD6x9xmjeT"
      },
      "id": "oLhD6x9xmjeT",
      "execution_count": null,
      "outputs": []
    },
    {
      "cell_type": "code",
      "source": [
        "print(\"🚀 Iniciando o Sistema de Criação de Posts para Instagram com 3 Agentes 🚀\\n\")\n",
        "\n",
        "# --- Obter o Tópico do Usuário ---\n",
        "topico = input(\"❓ Por favor, digite o TÓPICO sobre o qual você quer criar o post de tendências: \")\n",
        "\n",
        "# Inserir lógica do sistema de agentes\n",
        "if not topico:\n",
        "    print(\"\\nVocê esqueceu de digitar o tópico!\")\n",
        "else:\n",
        "    print(f\"\\nMaravilha! Vamos então criar o post sobre novidades em {topico}\")\n",
        "\n",
        "    lancamentos_buscados = await agente_buscador(topico, data_de_hoje)\n",
        "    print(\"\\n--- 📝 Resultado do Agente 1 (Buscador) ---\\n\")\n",
        "    display(to_markdown(lancamentos_buscados))\n",
        "    print(\"--------------------------------------------------------------\")\n",
        "\n",
        "    plano_de_post = await agente_planejador(topico, lancamentos_buscados)\n",
        "    print(\"\\n--- 📝 Resultado do Agente 2 (Planejador) ---\\n\")\n",
        "    display(to_markdown(plano_de_post))\n",
        "    print(\"--------------------------------------------------------------\")\n",
        "\n",
        "    post_redigido = await agente_redator(topico, plano_de_post)\n",
        "    print(\"\\n--- 📝 Resultado do Agente 3 (Redator) ---\\n\")\n",
        "    display(to_markdown(post_redigido))\n",
        "    print(\"--------------------------------------------------------------\")\n"
      ],
      "metadata": {
        "colab": {
          "base_uri": "https://localhost:8080/",
          "height": 1000
        },
        "id": "gEgE21qOmoya",
        "outputId": "37e36e63-dff0-4871-da84-9b2c5478ee38"
      },
      "id": "gEgE21qOmoya",
      "execution_count": null,
      "outputs": [
        {
          "output_type": "stream",
          "name": "stdout",
          "text": [
            "🚀 Iniciando o Sistema de Criação de Posts para Instagram com 3 Agentes 🚀\n",
            "\n",
            "❓ Por favor, digite o TÓPICO sobre o qual você quer criar o post de tendências: agentes de IA\n",
            "\n",
            "Maravilha! Vamos então criar o post sobre novidades em agentes de IA\n",
            "\n",
            "--- 📝 Resultado do Agente 1 (Buscador) ---\n",
            "\n"
          ]
        },
        {
          "output_type": "display_data",
          "data": {
            "text/plain": [
              "<IPython.core.display.Markdown object>"
            ],
            "text/markdown": "> Para encontrar os lançamentos mais relevantes de agentes de IA no último mês, farei algumas pesquisas no Google para identificar os lançamentos que estão gerando mais notícias e entusiasmo.\n> \n> \n> Com base nas notícias e artigos recentes, aqui estão alguns dos lançamentos e desenvolvimentos mais relevantes em agentes de IA no último mês:\n> \n> 1.  **Microsoft Build 2025:** A Microsoft está apostando forte na era dos agentes de IA e na construção de uma \"open agentic web\". No evento Build 2025, a empresa apresentou novos agentes pré-configurados, ferramentas para a criação de agentes personalizados e capacidades multi-agente. O Azure AI Foundry Agent Service também foi anunciado, permitindo que desenvolvedores orquestrem múltiplos agentes especializados para tarefas complexas. A Microsoft Discovery também foi apresentada, uma plataforma para capacitar pesquisadores a usar agentes de IA no processo de descoberta científica.\n> 2.  **Grin Intelligent Assistant (Gia) e Charlie:** Empresas de marketing de influência estão lançando agentes de IA para otimizar parcerias com criadores de conteúdo. A Grin lançou o Gia, que identifica potenciais parceiros, personaliza e-mails e sugere valores. A Tano lançou o Charlie, que se comunica diretamente com influenciadores e automatiza a descoberta, abordagem e integração.\n> 3.  **StackSpot AI:** A Zup, empresa do grupo Itaú Unibanco, está liderando a transformação no Brasil com a plataforma multiagentes para desenvolvimento de software StackSpot AI. A plataforma combina inteligência artificial generativa e hipercontextualização para transformar o desenvolvimento de software, permitindo uma redução de 50% no lead time.\n> 4.  **Agentes de IA para automação de negócios:** A demanda por agentes de IA nos negócios está crescendo, com 82% das empresas planejando integrar agentes de IA nos próximos 1 a 3 anos. Empresas que implantaram agentes de IA relatam melhorias significativas nas operações e aumento na eficiência. O mercado de agentes de IA deve crescer de US$ 5 bilhões em 2024 para mais de US$ 47 bilhões em 2030.\n> 5.  **S2, o agente de IA com múltiplas personalidades:** Um novo agente de inteligência artificial criado pela Simular AI, chamado S2, está chamando a atenção por sua estrutura em \"múltiplas personalidades\". Ele combina diferentes tipos de modelos de IA, cada um responsável por uma função específica, e tem apresentado resultados promissores em testes práticos.\n> \n> Esses são apenas alguns dos lançamentos e desenvolvimentos mais relevantes em agentes de IA no último mês. À medida que a tecnologia continua a evoluir, é provável que vejamos ainda mais inovações e aplicações de agentes de IA no futuro.\n> \n"
          },
          "metadata": {}
        },
        {
          "output_type": "stream",
          "name": "stdout",
          "text": [
            "--------------------------------------------------------------\n",
            "\n",
            "--- 📝 Resultado do Agente 2 (Planejador) ---\n",
            "\n"
          ]
        },
        {
          "output_type": "display_data",
          "data": {
            "text/plain": [
              "<IPython.core.display.Markdown object>"
            ],
            "text/markdown": "> Ok, com base nos lançamentos recentes de agentes de IA, vou pesquisar mais sobre cada um deles para identificar o tema mais relevante para um post de mídia social.\n> \n> \n> Após analisar os resultados da pesquisa, o tema mais relevante para um post de mídia social é: **Microsoft Build 2025 e a Era dos Agentes de IA**.\n> \n> **Justificativa:**\n> \n> *   **Amplo Interesse:** A Microsoft Build é um evento de grande visibilidade no mundo da tecnologia, e o foco em agentes de IA atrai a atenção de desenvolvedores, empresas e entusiastas da área.\n> *   **Inovação:** Os lançamentos da Microsoft, como o Azure AI Foundry Agent Service e o Microsoft Discovery, representam avanços significativos na criação e aplicação de agentes de IA.\n> *   **Impacto:** A visão da Microsoft de uma \"open agentic web\" e a integração de agentes de IA em diversas áreas, como desenvolvimento de software e pesquisa científica, têm o potencial de transformar a forma como interagimos com a tecnologia.\n> *   **Atualidade:** O evento Build 2025 é recente, o que garante que o tema esteja em alta e gere engajamento.\n> \n> **Plano para o Post:**\n> \n> *   **Título:** Microsoft Build 2025: A Era dos Agentes de IA Começou!\n> *   **Assuntos a serem abordados:**\n> \n>     *   O que são agentes de IA e por que eles são importantes.\n>     *   Principais anúncios da Microsoft Build 2025 relacionados a agentes de IA:\n>         *   Azure AI Foundry Agent Service: orquestração de múltiplos agentes especializados.\n>         *   Microsoft Discovery: uso de agentes de IA na descoberta científica.\n>         *   GitHub Copilot evoluído: parceria agentic assíncrona.\n>         *   Windows AI Foundry: plataforma unificada para desenvolvimento de IA.\n>     *   Exemplos de empresas que já estão utilizando agentes de IA da Microsoft (Fujitsu, NTT DATA, Stanford Health Care).\n>     *   A visão da Microsoft de uma \"open agentic web\" e o futuro da IA.\n>     *   O Model Context Protocol (MCP) para garantir segurança e interoperabilidade na web agentic.\n> \n> *   **Call to action:**\n>     *   Incentivar os seguidores a compartilhar suas opiniões sobre o futuro dos agentes de IA.\n>     *   Convidar os desenvolvedores a explorar as novas ferramentas e plataformas da Microsoft.\n> *   **Hashtags:** #AgentesIA #InteligenciaArtificial #MicrosoftBuild #AzureAI #OpenAgenticWeb #Inovacao #Tecnologia #FuturoDaIA\n> *   **Formato:** O post pode ser um carrossel com imagens e textos concisos, ou um vídeo curto com os principais destaques do evento.\n> \n"
          },
          "metadata": {}
        },
        {
          "output_type": "stream",
          "name": "stdout",
          "text": [
            "--------------------------------------------------------------\n",
            "\n",
            "--- 📝 Resultado do Agente 3 (Redator) ---\n",
            "\n"
          ]
        },
        {
          "output_type": "display_data",
          "data": {
            "text/plain": [
              "<IPython.core.display.Markdown object>"
            ],
            "text/markdown": "> 🚀 **Microsoft Build 2025: A Era dos Agentes de IA Começou!** 🚀\n> \n> Eita que a Microsoft Build 2025 trouxe MUITA novidade!  Prepare-se para mergulhar na era dos agentes de IA, uma revolução que vai mudar a forma como interagimos com a tecnologia.  \n> \n> 🤔 **O que são agentes de IA?**  Imagine assistentes virtuais superpoderosos, capazes de executar tarefas complexas e se comunicar entre si!  Eles estão revolucionando áreas como desenvolvimento de software, pesquisa científica e muito mais.\n> \n> A Microsoft apresentou tecnologias incríveis:\n> \n> * **Azure AI Foundry Agent Service:** Orquestra vários agentes especializados, trabalhando juntos como uma equipe de super-heróis da tecnologia!\n> * **Microsoft Discovery:** Usando agentes de IA para acelerar descobertas científicas, abrindo portas para inovações que antes eram inimagináveis.\n> * **GitHub Copilot evoluído:**  Parcerias agentic assíncronas para um desenvolvimento de código ainda mais eficiente e colaborativo.\n> * **Windows AI Foundry:** Uma plataforma unificada para criar e implementar agentes de IA, simplificando o processo para desenvolvedores.\n> \n> 😱 Empresas gigantes como Fujitsu, NTT DATA e Stanford Health Care já estão utilizando essas ferramentas!\n> \n> A Microsoft vislumbra uma \"open agentic web\", um futuro onde agentes de IA trabalham juntos em perfeita harmonia, tudo com segurança garantida pelo Model Context Protocol (MCP).  \n> \n> 🗣️ **E você, o que acha do futuro dos agentes de IA? Compartilhe sua opinião nos comentários!**  E desenvolvedores, preparem-se para explorar essas novas ferramentas incríveis!  Acesse o site da Microsoft para saber mais!  (link na bio)\n> \n> #AgentesIA #InteligenciaArtificial #MicrosoftBuild #AzureAI\n> \n> \n> \n"
          },
          "metadata": {}
        },
        {
          "output_type": "stream",
          "name": "stdout",
          "text": [
            "--------------------------------------------------------------\n"
          ]
        }
      ]
    },
    {
      "cell_type": "code",
      "source": [
        "# Cria o diretório 'agentes' se ele não existir\n",
        "!mkdir -p agentes"
      ],
      "metadata": {
        "id": "XASKHYYqzxcf"
      },
      "id": "XASKHYYqzxcf",
      "execution_count": null,
      "outputs": []
    },
    {
      "cell_type": "code",
      "source": [
        "%%writefile agentes/redator.py\n",
        "from google.adk.agents import Agent\n",
        "\n",
        "def criar_agente_redator(modelo=\"gemini-1.5-flash\"):\n",
        "    return Agent(\n",
        "        name=\"agente_redator\",\n",
        "        model=modelo,\n",
        "        instruction=\\\"\\\"\\\"\n",
        "        Você é um redator da Alura. Crie posts para Instagram baseados no plano de conteúdo fornecido.\n",
        "        Seja criativo, direto, informativo e use hashtags.\n",
        "        \\\"\\\"\\\",\n",
        "        description=\"Cria posts para redes sociais.\"\n",
        "    )\n"
      ],
      "metadata": {
        "colab": {
          "base_uri": "https://localhost:8080/"
        },
        "id": "hQVvupICz1ju",
        "outputId": "844f489b-0822-4a23-c568-2a8aeea3f91a"
      },
      "id": "hQVvupICz1ju",
      "execution_count": null,
      "outputs": [
        {
          "output_type": "stream",
          "name": "stdout",
          "text": [
            "Writing agentes/redator.py\n"
          ]
        }
      ]
    }
  ],
  "metadata": {
    "colab": {
      "provenance": [],
      "include_colab_link": true
    },
    "language_info": {
      "name": "python"
    },
    "kernelspec": {
      "name": "python3",
      "display_name": "Python 3"
    }
  },
  "nbformat": 4,
  "nbformat_minor": 5
}